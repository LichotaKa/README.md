{
  "nbformat": 4,
  "nbformat_minor": 0,
  "metadata": {
    "colab": {
      "provenance": []
    },
    "kernelspec": {
      "name": "python3",
      "display_name": "Python 3"
    },
    "language_info": {
      "name": "python"
    }
  },
  "cells": [
    {
      "cell_type": "markdown",
      "source": [
        "wczesniej dodatan czateria byla przekopiowana, ta jest jako plik ipynb"
      ],
      "metadata": {
        "id": "j6OZCamMomNY"
      }
    },
    {
      "cell_type": "markdown",
      "source": [
        "**Zadanie 1:**\n",
        "--\n",
        "* streszczanie tekstu - wymaga dokładnego przeczytania i zrozumienia tekstu aby został streszczony prawidłowo\n",
        "* tłumaczenie tekstu - wymaga znajomości więcej niż 1 języka na wysokim poziomie\n",
        "* klasyfikacja tekstu do kategorii tematycznych - wymaga znajomosci reguł przynależnosci oraz umiejetnosci rozpoznania ich i przypisania ich do danej kategori\n",
        "* układanie rozkładu jazdy transportu miejskiego- wymaga umiejętności analizowania wielu danych naraz\n",
        "* programowanie (pisanie programów komputerowych) - wymaga dobrej znajomosci programowania oraz radzenia sobie z problemami\n",
        "* komponowanie muzyki - wymaga znajomosci teorii muzyki i umejętnego zastosowania jej\n",
        "* rozwiązywanie układów równań - wymaga znajomosci matematyki i logicznego myślenia\n",
        "* symboliczne całkowanie funkcji - wymaga zrozumienia i poprawnego wykorzystania algorytmów matematycznych\n",
        "kierowanie samochodem - wymaga przetwarzania wielu informacji w tym samym momencie\n",
        "\n",
        "---"
      ],
      "metadata": {
        "id": "mhNAVuYsEH0S"
      }
    },
    {
      "cell_type": "markdown",
      "source": [
        "**Zadanie 2:**\n",
        "--\n",
        "* streszczanie tekstu - Sztuczna inteligencja jest w stanie pisac podsumowania wielu tekstów\n",
        "* tłumaczenie tekstu - istnieje wiele programów do automatycznego tłumaczenia tekstów\n",
        "* odpowiadanie na proste pytania zadawane w języku naturalnym - nowoczesne chatboty radzą sobie z takimi pytaniami\n",
        "* rozwiązywanie układów równań - istnieja programy które są w stanie rozwiązać problemy matematyczne\n",
        "* układanie rozkładu jazdy - sztuczna inteligencja jest w stanie przeanalizować i połączyć ze sobą znacznie większą ilość zbiorów danych niż człowiek\n",
        "* rozwiązywanie układów równań liniowych - istnieja programy które są w stanie rozwiązać problemy matematyczne\n",
        "* symboliczne obliczanie pochodnych - istnieja programy które są w stanie rozwiązać problemy matematyczne\n",
        "* symboliczne całkowanie - istnieja programy które są w stanie rozwiązać problemy matematyczne  w tym symboliczne całkowanie\n",
        "* kierowanie samochodem - istnieja systemy wspierajace jazdę samochodem\n",
        "\n",
        "\n",
        "\n",
        "---"
      ],
      "metadata": {
        "id": "gCGtiDXhHeab"
      }
    },
    {
      "cell_type": "markdown",
      "source": [
        "**Zadanie 3:**\n",
        "--\n",
        "* rozmowa towarzyska - isnieją chatboty, które mają na celu towarzyska rozmowę z człowiekiem\n",
        "* odpowiadanie na pytania klientów w telefonicznej infolinii - \" automatyczne sekretarki\"\n",
        "* odpowiadanie na pytania klientów w internetowej infolinii - wiele portalów umieszcza na swoich stronach dedykowane ku temu chat boty\n",
        "---"
      ],
      "metadata": {
        "id": "uR4UKHC2IDJa"
      }
    },
    {
      "cell_type": "markdown",
      "source": [
        "**Zadanie 4:**\n",
        "--\n",
        "1.\n",
        "Chatbot asystent ma na celu pomóc rozwiązać problemy, przewiduje jakie pytania może zadać klient, odpowiadają na podstawie pewnego schematu, który można zauważyć podczas rozmowy.\n",
        "czaty przygotowane pod test Turinga, które mają na celu imitować rozmowę z człowiekiem nie trzymają się sztywnych schematów, są bardziej elastyczne w soich odpowiedziach.\n",
        "\n",
        "3.\n",
        "Chatbot asystent w większości przypadków odpowiada tymi samymi słowami ,,Nie rozumiem tego pytania. Spróbuj je zadać inaczej.\", nie reaguje na żarty, przytaczanie cytatów, nawiązywanie wypowiedzi do słów kluczowych, powracanie do początku wypowiedzi, zadawanie pytań powstajacych z wypowiedzi, ale na wszystkie pytania, jeżeli są sformulowane w prosty i przejrzysty sposób odpowiada bez problemu.  Czatboty z listy startowej odpowiadają w sposób który jest albo minimalnie albo wcale powiązane z wysyłanymi do nich wiadomościami, w odróznieniu do tych pierwszych chatbotów odpowiedzi się nie powtarzają, zadając poważne pytania od której oczekujemy merytorycznej odpowiedzi możemy sie poważnie zawieść.\n",
        "\n",
        "\n",
        "5.\n",
        " W przypadku cleverbota wystarczyło jedynie napisać żart, zaczał mówić że mnie nie lubi bo jestem ruda i gruba."
      ],
      "metadata": {
        "id": "xgTpTHn3Iili"
      }
    }
  ]
}