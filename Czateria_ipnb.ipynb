{
  "nbformat": 4,
  "nbformat_minor": 0,
  "metadata": {
    "colab": {
      "provenance": []
    },
    "kernelspec": {
      "name": "python3",
      "display_name": "Python 3"
    },
    "language_info": {
      "name": "python"
    }
  },
  "cells": [
    {
      "cell_type": "code",
      "execution_count": null,
      "metadata": {
        "id": "h92HotmtDSuj"
      },
      "outputs": [],
      "source": []
    },
    {
      "cell_type": "markdown",
      "source": [
        "**Zadanie 1:**\n",
        "--\n",
        "* streszczanie tekstu - wymaga dokładnego przeczytania i zrozumienia tekstu aby został streszczony prawidłowo\n",
        "* tłumaczenie tekstu - wymaga znajomości wiecej niz 1 języka na wysokim poziomie\n",
        "* klasyfikacja tekstu do kategorii tematycznych - wymaga znajomosci reguł przynależnosci oraz umiejetnosci rozpoznania ich i przypisania ich do danej kategorii\n",
        "* układanie rozkładu jazdy transportu miejskiego- wymaga umiejętności analizowania wielu danych naraz\n",
        "* programowanie (pisanie programów komputerowych) - wymaga dobrej znajomosci programowania oraz radzenia sobie z problemami\n",
        "* komponowanie muzyki - wymaga znajomosci teorii muzyki i umejętnego zastosowania jej\n",
        "* rozwiązywanie układów równań - wymaga znajomosci matematyki i logicznego myślenia\n",
        "\n",
        "---"
      ],
      "metadata": {
        "id": "mhNAVuYsEH0S"
      }
    },
    {
      "cell_type": "markdown",
      "source": [
        "**Zadanie 2:**\n",
        "--\n",
        "* streszczanie tekstu - Sztuczna inteligencja (np. chatboty) są w stanie pisac podsumowania wielu tekstów\n",
        "* tłumaczenie tekstu - istnieje wiele programów no automatycznego tłumaczenia tekstów\n",
        "* odpowiadanie na proste pytania zadawane w języku naturalnym - chatboty\n",
        "* rozwiązywanie układów równań - istnieja programy które są w stanie rozwiązać problemy matematyczne\n",
        "* układanie rozkładu jazdy - sztuczna inteligencja jest w stanie przeanalizować i połączyć ze sobą znacznie większą ilość zbiorów danych niż człowiek\n",
        "* rozwiązywanie układów równań liniowych - istnieja programy które są w stanie rozwiązać problemy matematyczne\n",
        "* symboliczne obliczanie pochodnych - istnieja programy które są w stanie rozwiązać problemy matematyczne\n",
        "* symboliczne całkowanie - istnieja programy które są w stanie rozwiązać problemy matematyczne  \n",
        "* kierowanie samochodem - istnieja systemy wspierajace jazdę samochodem\n",
        "\n",
        "\n",
        "\n",
        "---"
      ],
      "metadata": {
        "id": "gCGtiDXhHeab"
      }
    },
    {
      "cell_type": "markdown",
      "source": [
        "**Zadanie 3:**\n",
        "--\n",
        "* rozmowa towarzyska - isnieją chatboty, które mają na celu towarzyska rozmowę z człowiekiem\n",
        "* odpowiadanie na pytania klientów w telefonicznej infolinii - \" automatyczne sekretarki\"\n",
        "* odpowiadanie na pytania klientów w internetowej infolinii - wiele portalów umieszcza na swoich stronacg dedykowane ku temu chat boty\n",
        "---"
      ],
      "metadata": {
        "id": "uR4UKHC2IDJa"
      }
    },
    {
      "cell_type": "markdown",
      "source": [
        "**Zadanie 4:**\n",
        "--\n",
        "1.\n",
        "Chatbot asystent ma na celu pomóc rozwiązać problemy, przewiduje jakie pytania może zadać klient, odpowiadają na podstawie pewnego schematu, ktory mozna zauważyć podczas rozmowy.\n",
        "czaty przygotowane pod test Turinga, które mają na celu imitować rozmowę z człowiekiem nie trzymają się sztywnych schemató, są bardziej elastyczne w soich odpowiedziach.\n",
        "\n",
        "d) zadawanie dużej liczby pytań,\n",
        "e) powracanie do początku wypowiedzi, sekwencyjne powtarzanie,\n",
        "f) zadawanie pytań powstających z twoich wypowiedzi,\n",
        "g) odpowiadanie wymijająco, ogólnikowo,\n",
        "h) częsta zmiana tematu rozmowy,\n",
        "i) problemy z utrzymaniem wątków.\n",
        "3. a)\n",
        "\n",
        "Żart: Dlaczego komputerowi jest zawsze zimno? Bo ma za duzo okien!\n",
        "Cleverbot: Nie mów tak do mnie nie jestem z tobą\n",
        "chatbot.pl: Nie rozumiem tego pytania. Spróbuj je zadać inaczej.\n",
        "\n",
        "spostrzeżenia: czatbot udający człowieka\n",
        "\n",
        "b)\n",
        "Są dwie drogi, aby przeżyć życie. Jedna to żyć tak, jakby nic nie było cudem. Druga to żyć tak, jakby cudem było wszystko.\n",
        "\n",
        "personalityforge:I'm on a tight schedule here, it's almost lunch.\n",
        "\n",
        "chatbot.pl: Nie rozumiem tego pytania. Spróbuj je zadać inaczej.\n",
        "\n",
        "c) personalityforge: can you give me keywords that describe a data base\n",
        "\n",
        "-The Romans invented metal locks and keys and the system of security provided by wards\n",
        "\n",
        "chatbot pl: prosi o sprecyzowanie pytania\n",
        "\n",
        "d) reakcje nie zmieniaja sie, chatbot.pl odpowiada w ten sam sposób\n",
        "\n",
        "e)\n",
        "\n",
        "f) chatbot.pl: nie odpowiada na pytania, prosi o dkoladniejsze sprecyzowanie\n",
        "\n",
        "g)\n",
        "\n",
        "h)\n",
        "\n",
        "i)\n",
        "\n",
        "\n",
        "\n",
        "4. Na podstawie powyższych obserwacji, w grupie dwóch osób spróbujcie przewidzieć zachowania dwóch rozmawiających ze sobą chatbotów (przepisując ich\n",
        "wzajemne odpowiedzi).\n",
        "5. Zdenerwuj bota"
      ],
      "metadata": {
        "id": "xgTpTHn3Iili"
      }
    }
  ]
}